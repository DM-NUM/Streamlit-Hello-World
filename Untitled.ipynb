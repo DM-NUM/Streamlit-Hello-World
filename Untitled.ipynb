{
 "cells": [
  {
   "cell_type": "code",
   "execution_count": 5,
   "id": "59d9333c-b342-40b6-8fbd-8c5cc8e0ecbb",
   "metadata": {
    "editable": true,
    "slideshow": {
     "slide_type": ""
    },
    "tags": []
   },
   "outputs": [
    {
     "name": "stderr",
     "output_type": "stream",
     "text": [
      "2024-03-26 10:27:25.591 \n",
      "  \u001b[33m\u001b[1mWarning:\u001b[0m to view this Streamlit app on a browser, run it with the following\n",
      "  command:\n",
      "\n",
      "    streamlit run D:\\install_dir\\miniconda3-2\\envs\\py39\\lib\\site-packages\\ipykernel_launcher.py [ARGUMENTS]\n"
     ]
    },
    {
     "data": {
      "text/plain": [
       "False"
      ]
     },
     "execution_count": 5,
     "metadata": {},
     "output_type": "execute_result"
    }
   ],
   "source": [
    "import numpy as np\n",
    "import time\n",
    "import pandas as pd\n",
    "import streamlit as st\n",
    "\n",
    "progress_bar = st.sidebar.progress(0)\n",
    "status_text = st.sidebar.empty()\n",
    "last_rows = np.random.randn(1, 1)\n",
    "chart = st.line_chart(last_rows)\n",
    "\n",
    "for i in range(1, 101):\n",
    "    new_rows = last_rows[-1, :] + np.random.randn(5, 1).cumsum(axis=0)\n",
    "    status_text.text(\"%i%% Complete\" % i)\n",
    "    chart.add_rows(new_rows)\n",
    "    progress_bar.progress(i)\n",
    "    last_rows = new_rows\n",
    "    # time.sleep(0.05)\n",
    "\n",
    "# progress_bar.empty()\n",
    "\n",
    "# Streamlit widgets automatically run the script from top to bottom. Since\n",
    "# this button is not connected to any other logic, it just causes a plain\n",
    "# rerun.\n",
    "st.button(\"Re-run\")"
   ]
  },
  {
   "cell_type": "code",
   "execution_count": 2,
   "id": "ad8db2ee-cc76-475d-a9ad-856a29b80ab0",
   "metadata": {},
   "outputs": [
    {
     "data": {
      "text/plain": [
       "DeltaGenerator(_root_container=1, _parent=DeltaGenerator())"
      ]
     },
     "execution_count": 2,
     "metadata": {},
     "output_type": "execute_result"
    }
   ],
   "source": [
    "progress_bar"
   ]
  },
  {
   "cell_type": "code",
   "execution_count": 3,
   "id": "3e5c909b-d16b-418d-ad6c-7e2009192d05",
   "metadata": {},
   "outputs": [
    {
     "data": {
      "text/plain": [
       "DeltaGenerator(_root_container=1, _parent=DeltaGenerator())"
      ]
     },
     "execution_count": 3,
     "metadata": {},
     "output_type": "execute_result"
    }
   ],
   "source": [
    "status_text"
   ]
  },
  {
   "cell_type": "code",
   "execution_count": 4,
   "id": "ab6ed333-f836-4601-8c7f-ddf0462cdbef",
   "metadata": {},
   "outputs": [
    {
     "data": {
      "text/plain": [
       "DeltaGenerator()"
      ]
     },
     "execution_count": 4,
     "metadata": {},
     "output_type": "execute_result"
    }
   ],
   "source": [
    "chart"
   ]
  },
  {
   "cell_type": "code",
   "execution_count": 3,
   "id": "c3ee9934-c6a9-4f9b-a410-125a8fcf335f",
   "metadata": {
    "editable": true,
    "slideshow": {
     "slide_type": ""
    },
    "tags": []
   },
   "outputs": [],
   "source": [
    "# import plotly.object as \n",
    "import plotly.graph_objs as go"
   ]
  },
  {
   "cell_type": "code",
   "execution_count": 2,
   "id": "b8f4f061-7d3c-443b-9d26-f5c0ae0c03ab",
   "metadata": {},
   "outputs": [
    {
     "name": "stdout",
     "output_type": "stream",
     "text": [
      "Help on package plotly:\n",
      "\n",
      "NAME\n",
      "    plotly - https://plot.ly/python/\n",
      "\n",
      "DESCRIPTION\n",
      "    Plotly's Python API allows users to programmatically access Plotly's\n",
      "    server resources.\n",
      "    \n",
      "    This package is organized as follows:\n",
      "    \n",
      "    Subpackages:\n",
      "    \n",
      "    - plotly: all functionality that requires access to Plotly's servers\n",
      "    \n",
      "    - graph_objs: objects for designing figures and visualizing data\n",
      "    \n",
      "    - matplotlylib: tools to convert matplotlib figures\n",
      "    \n",
      "    Modules:\n",
      "    \n",
      "    - tools: some helpful tools that do not require access to Plotly's servers\n",
      "    \n",
      "    - utils: functions that you probably won't need, but that subpackages use\n",
      "    \n",
      "    - version: holds the current API version\n",
      "    \n",
      "    - exceptions: defines our custom exception classes\n",
      "\n",
      "PACKAGE CONTENTS\n",
      "    _subplots\n",
      "    _version\n",
      "    _widget_version\n",
      "    animation\n",
      "    basedatatypes\n",
      "    basewidget\n",
      "    callbacks\n",
      "    colors (package)\n",
      "    config\n",
      "    conftest\n",
      "    dashboard_objs\n",
      "    data (package)\n",
      "    exceptions\n",
      "    express (package)\n",
      "    figure_factory (package)\n",
      "    files\n",
      "    graph_objects (package)\n",
      "    graph_objs (package)\n",
      "    grid_objs\n",
      "    io (package)\n",
      "    matplotlylib (package)\n",
      "    missing_ipywidgets\n",
      "    offline (package)\n",
      "    optional_imports\n",
      "    plotly (package)\n",
      "    presentation_objs\n",
      "    serializers\n",
      "    session\n",
      "    shapeannotation\n",
      "    subplots\n",
      "    tools\n",
      "    utils\n",
      "    validator_cache\n",
      "    validators (package)\n",
      "    version\n",
      "    widgets\n",
      "\n",
      "VERSION\n",
      "    5.20.0\n",
      "\n",
      "FILE\n",
      "    d:\\install_dir\\miniconda3-2\\envs\\py39\\lib\\site-packages\\plotly\\__init__.py\n",
      "\n",
      "\n"
     ]
    }
   ],
   "source": [
    "help(plotly)"
   ]
  },
  {
   "cell_type": "code",
   "execution_count": 6,
   "id": "d72cdd40-1500-47d6-8a9e-4a8b3e5ae1a9",
   "metadata": {},
   "outputs": [],
   "source": [
    "df2 = pd.DataFrame(\n",
    "     np.random.randn(200, 3),\n",
    "     columns=['a', 'b', 'c'])"
   ]
  },
  {
   "cell_type": "code",
   "execution_count": 7,
   "id": "1a96ab17-0f53-4397-885f-6b5ed0ac1f9d",
   "metadata": {},
   "outputs": [
    {
     "name": "stderr",
     "output_type": "stream",
     "text": [
      "IOPub data rate exceeded.\n",
      "The Jupyter server will temporarily stop sending output\n",
      "to the client in order to avoid crashing it.\n",
      "To change this limit, set the config variable\n",
      "`--ServerApp.iopub_data_rate_limit`.\n",
      "\n",
      "Current values:\n",
      "ServerApp.iopub_data_rate_limit=1000000.0 (bytes/sec)\n",
      "ServerApp.rate_limit_window=3.0 (secs)\n",
      "\n"
     ]
    }
   ],
   "source": [
    "help(go)"
   ]
  },
  {
   "cell_type": "code",
   "execution_count": 11,
   "id": "554cd405-8e39-4114-a8e5-36b0bf0e1ce8",
   "metadata": {},
   "outputs": [
    {
     "data": {
      "application/vnd.plotly.v1+json": {
       "config": {
        "plotlyServerURL": "https://plot.ly"
       },
       "data": [
        {
         "marker": {
          "color": "rgb(15,110,225)",
          "line": {
           "color": "rgb(108,48,107)",
           "width": 1.5
          }
         },
         "mode": "lines+markers",
         "name": "test",
         "opacity": 0.6,
         "type": "scatter",
         "x": [
          0.9364551655276987,
          0.7232657213516356,
          1.5131447972222143,
          2.0147599066233313,
          1.2912640683020846,
          0.5529322226089174,
          -1.3394158365633222,
          -0.4922977881355095,
          0.6013189457647179,
          0.5633337989845222,
          -2.066210346805853,
          1.1640491457053843,
          1.5025034978018803,
          -0.27869079464090024,
          0.13283217542333065,
          0.8883429696885546,
          0.05472394278444157,
          -0.05587343725189793,
          -2.455760897944926,
          1.6496180272784895,
          -0.6625414245648114,
          0.7079966385517327,
          0.8538131050931584,
          -0.6254107675511874,
          -2.616389147434761,
          0.627329766290219,
          -0.3293487202311193,
          0.08597785772671972,
          0.7624307606792152,
          1.8413962635098038,
          1.0627091178426944,
          -0.8360200736310309,
          0.31891803224266435,
          -0.28733566403657035,
          -0.9935780193449459,
          1.0146831943786145,
          1.6542792380418565,
          0.35179512277011843,
          -1.2336186417797654,
          0.4240807073492636,
          -0.04754294084170785,
          1.0553493245934689,
          0.03432842114042148,
          -0.8671238360847825,
          -0.19970285533989884,
          0.9532687885929765,
          -1.1631671884362471,
          -0.040691793242381556,
          -0.3522868633231391,
          0.0626374391063902,
          1.899767973325223,
          -1.2241749759493918,
          1.5857661294310423,
          -0.3818433028793371,
          -0.0329219926412431,
          -0.6470259223979276,
          -1.249654673035604,
          -1.0013361772335976,
          1.3685021284321328,
          0.6944332969979332,
          -1.9082779642273633,
          -1.0490084801699535,
          0.18957514618728794,
          -0.6892187008037303,
          0.3556470324717822,
          -0.9291368291982054,
          -0.5022309242035612,
          -0.9769824027140934,
          0.12619736719326954,
          -0.5697026440576684,
          -0.8962916661665921,
          0.040453603383290994,
          -1.3544884225221903,
          -1.4923101600633701,
          -1.2360689864356345,
          1.4525138115200844,
          -0.19099771908958288,
          -1.6173606065436652,
          -0.7371607189458473,
          -1.2670943235790915,
          0.9602590280908531,
          0.0853634431668654,
          2.2982608831769924,
          1.1645509986646712,
          1.48753129265607,
          -0.8719018000561684,
          -0.7430426304090927,
          -0.1376115504284748,
          2.68121718082859,
          1.9219049557975993,
          1.9154471753886346,
          -1.2986698054920056,
          0.5294986992421771,
          0.018786287030669452,
          0.48009733138568195,
          -0.6973504616268923,
          0.6593231805482901,
          1.6597498759547116,
          -1.2838992574755772,
          0.4051597342454738,
          0.6155113758450306,
          -0.4306205551916866,
          -0.9016173347972367,
          -0.8321025601175582,
          0.5064404850283537,
          -0.907243704345865,
          -1.0180621249485378,
          0.6999114632724545,
          0.4504363633544502,
          -1.3750713473672758,
          -0.035821667831046455,
          1.5052404100458563,
          -1.5219249312000547,
          -0.0755118853558854,
          0.03799707792008749,
          0.2661421590209166,
          0.5897315831812786,
          0.797827028463988,
          -0.3014108045141236,
          0.7082571966073397,
          -1.199838496487015,
          0.8350110158465085,
          -0.28385382646181945,
          0.21535874553150683,
          1.99912032707075,
          -0.37507684402596764,
          1.443415933115678,
          0.14399566650399281,
          -0.08237734117108532,
          -0.05989981792796406,
          0.009090098059260691,
          0.20909505858311514,
          -0.5440755701467459,
          0.18504692466814884,
          0.7810858424587555,
          -0.5320908338374335,
          0.8703381812998169,
          0.9789038105205548,
          -0.2850383929964289,
          1.007019975632089,
          0.9289851024532247,
          0.029639240655755995,
          0.11259590461657736,
          -0.6940109940134134,
          0.1325211585535953,
          -0.774813871523891,
          -1.9419905419405017,
          -1.4548899291306325,
          1.1455467247406046,
          -2.1949770353352984,
          0.36733944044163874,
          0.5963504787870739,
          0.6746664554604834,
          1.610885926039824,
          0.39796394586640826,
          3.1424087676782984,
          0.9868712900521011,
          0.3967964744879105,
          -1.1469326220438718,
          1.9304195194354248,
          -1.0794620172846843,
          0.7679590915557952,
          1.3157574918447617,
          1.7061785605751314,
          -1.3363986753218196,
          -0.1447046514679188,
          0.421224094782486,
          0.8134395556849882,
          0.8510767557457188,
          -0.8495821636867023,
          -0.13810978421404096,
          -0.806854803141265,
          -1.384904719499458,
          0.8587936281836657,
          -0.12518103000955136,
          0.5687082788633848,
          0.6334540635628847,
          0.08146151847693815,
          -0.686040767780822,
          -0.4963608166392705,
          0.4020863355459726,
          0.4557441821571677,
          0.8565818819551217,
          -0.8805085697994689,
          -0.9712526645691724,
          0.7516605550562512,
          -1.417899289236944,
          0.2713003216934518,
          0.6533635590541311,
          -0.8481420610226194,
          -0.825351426936857,
          0.5331877440137278,
          0.376606553940222,
          -0.211037740423904,
          0.22239031776507442,
          -0.2737719397098982,
          -0.8457511727917488,
          1.3138455997981262,
          0.3191091808825976,
          0.10838562108450091
         ],
         "y": [
          0.40580048746248054,
          -1.0730446384793628,
          -0.6888549066021806,
          0.4279275182103736,
          -0.8900199636553386,
          0.4868698584669346,
          -0.7598589435392084,
          1.463770638518516,
          -1.3884860940919295,
          -0.8904988072064312,
          -0.8109210906819606,
          -1.273466012506934,
          -1.4633754359881392,
          -0.1401216954218548,
          -0.15247950773241895,
          0.6896866724565197,
          1.0265154067505229,
          0.5431728147796886,
          0.4146001197298313,
          0.06006583318181894,
          0.1940134495370769,
          -0.8235492469352673,
          2.1151689216006164,
          0.40480100095207283,
          -0.21092670748363224,
          -0.4173972578994154,
          0.9776611082472596,
          -0.5240711760329076,
          1.0905759420715442,
          1.081894190643518,
          -0.5610630292058381,
          0.09470342458164181,
          -0.6456275701524293,
          0.42358797860162195,
          -0.48402745909919787,
          0.28634397407484014,
          1.409306287696047,
          -0.5186624148821952,
          -0.4394900149239898,
          0.6577876166533732,
          -1.106282845560859,
          0.45704314969150717,
          0.37784148669182965,
          -0.6580109245024365,
          0.4587355110710405,
          -1.7529541867471823,
          -1.1505184750801598,
          0.9733967265350693,
          0.19469389613873767,
          0.5174047924826009,
          -0.5194773670480053,
          1.8422085130014623,
          -1.0480182115048162,
          -1.0149133818620921,
          -0.40353727032586667,
          1.605347440286641,
          -0.5801189974264662,
          -1.05289213260999,
          0.1044913139974024,
          -0.5199159505681081,
          -0.19960031129541642,
          -2.0276701260644594,
          0.2921381970931459,
          0.37308878641360266,
          0.5069813500899504,
          0.60286550153466,
          1.353265679101614,
          -0.20940442145874855,
          0.23398465336249247,
          0.05759201372935472,
          0.5767966599154096,
          1.2902265514029456,
          -0.5037227988847244,
          -2.203609378188949,
          -0.36327234189960084,
          1.2995942357221986,
          0.9311803422099861,
          -1.1450487469865769,
          1.6657362451027276,
          -0.06500085786346599,
          -2.4099460871243656,
          -0.18481331227212364,
          0.13969370694487,
          -0.6806202251258292,
          -1.2741646023539708,
          0.24814928822318613,
          -0.3673423497128972,
          0.5667077013414282,
          1.7131492662098677,
          0.0861731699707915,
          -0.02092271332422075,
          -0.3450536763887981,
          -0.6540251574816087,
          -0.2741303640543928,
          0.8912947565392308,
          -1.3718339892542122,
          -0.4907982901654708,
          -4.095303437433617,
          1.4959141876074713,
          -0.03585002604013609,
          0.5832871651021081,
          -1.010558273858714,
          1.0012307826860725,
          -1.1349398814810912,
          0.8930876533366413,
          1.4382026776565588,
          0.22243059763151896,
          0.2801929074822795,
          -0.2413702272422282,
          0.009714905652421441,
          1.025108394142444,
          -2.1132679925298836,
          -0.025757604914822044,
          0.8140757615368656,
          0.5732451969797974,
          1.086969008284848,
          1.6652041273094471,
          0.8862535153384037,
          0.14254836431351095,
          1.9153056663044146,
          -1.639093578454446,
          0.013387621711405274,
          0.8736906525527032,
          1.7237538634691472,
          0.8904662142871779,
          0.471649108198198,
          -0.22955587893012416,
          -0.49543631784789977,
          -0.3094075756306445,
          -0.2666438144130811,
          0.6511083973274091,
          -0.7405362783126105,
          1.2990299772464287,
          0.17963982521376437,
          1.4693242512886713,
          -0.2136649766768789,
          1.8412664329889215,
          -1.6937802953937788,
          -0.7771523809048733,
          -0.8639973076548534,
          -0.9079017998563436,
          0.7726946407506396,
          -0.8400659576572209,
          0.8454707410272185,
          -0.00857759852780908,
          -0.37025045248428207,
          -1.0371859117172881,
          -1.0604855401219828,
          0.3963236870951896,
          -0.48871800571144086,
          -0.4211619049687481,
          0.22408310615462246,
          -0.31591509490887065,
          -1.4359842929386302,
          0.5889689767957703,
          -0.08365279288090423,
          1.4638577256499223,
          0.7831394385385149,
          0.27122141632939767,
          -0.7983379735228179,
          1.6281230183386852,
          -1.510045861499118,
          -0.2706124058977303,
          -0.8634836860473679,
          -0.8202190334214617,
          1.8807729135331035,
          1.931071261242785,
          -0.3035915624399943,
          -0.3775986199006657,
          0.8485134363754834,
          0.8415197559610678,
          0.49121453995723074,
          -1.9595774475844354,
          0.39856467331914425,
          -0.9372368084614043,
          -0.439641038191077,
          0.6480754978367838,
          0.06123272625823728,
          0.29338795075490126,
          -1.0547407002047584,
          1.6084362480072416,
          0.04150205244568842,
          -0.6254332807657124,
          -0.7041332171120359,
          1.4441354240586122,
          -0.5634865883173455,
          1.0267518370294761,
          -1.1809524919719494,
          1.9724574276513265,
          -0.9727537809298273,
          -0.7164776497900457,
          -1.46924424217409,
          0.1413172154753677,
          0.4845442257280558,
          -0.42862464289160584,
          0.6633285306325472,
          -0.025395472794002723,
          0.9506911637903733,
          1.7671176175878927,
          0.8137759303063591
         ]
        }
       ],
       "layout": {
        "autosize": true,
        "template": {
         "data": {
          "candlestick": [
           {
            "decreasing": {
             "line": {
              "color": "#000033"
             }
            },
            "increasing": {
             "line": {
              "color": "#000032"
             }
            },
            "type": "candlestick"
           }
          ],
          "contour": [
           {
            "colorscale": [
             [
              0,
              "#000011"
             ],
             [
              0.1111111111111111,
              "#000012"
             ],
             [
              0.2222222222222222,
              "#000013"
             ],
             [
              0.3333333333333333,
              "#000014"
             ],
             [
              0.4444444444444444,
              "#000015"
             ],
             [
              0.5555555555555556,
              "#000016"
             ],
             [
              0.6666666666666666,
              "#000017"
             ],
             [
              0.7777777777777778,
              "#000018"
             ],
             [
              0.8888888888888888,
              "#000019"
             ],
             [
              1,
              "#000020"
             ]
            ],
            "type": "contour"
           }
          ],
          "contourcarpet": [
           {
            "colorscale": [
             [
              0,
              "#000011"
             ],
             [
              0.1111111111111111,
              "#000012"
             ],
             [
              0.2222222222222222,
              "#000013"
             ],
             [
              0.3333333333333333,
              "#000014"
             ],
             [
              0.4444444444444444,
              "#000015"
             ],
             [
              0.5555555555555556,
              "#000016"
             ],
             [
              0.6666666666666666,
              "#000017"
             ],
             [
              0.7777777777777778,
              "#000018"
             ],
             [
              0.8888888888888888,
              "#000019"
             ],
             [
              1,
              "#000020"
             ]
            ],
            "type": "contourcarpet"
           }
          ],
          "heatmap": [
           {
            "colorscale": [
             [
              0,
              "#000011"
             ],
             [
              0.1111111111111111,
              "#000012"
             ],
             [
              0.2222222222222222,
              "#000013"
             ],
             [
              0.3333333333333333,
              "#000014"
             ],
             [
              0.4444444444444444,
              "#000015"
             ],
             [
              0.5555555555555556,
              "#000016"
             ],
             [
              0.6666666666666666,
              "#000017"
             ],
             [
              0.7777777777777778,
              "#000018"
             ],
             [
              0.8888888888888888,
              "#000019"
             ],
             [
              1,
              "#000020"
             ]
            ],
            "type": "heatmap"
           }
          ],
          "histogram2d": [
           {
            "colorscale": [
             [
              0,
              "#000011"
             ],
             [
              0.1111111111111111,
              "#000012"
             ],
             [
              0.2222222222222222,
              "#000013"
             ],
             [
              0.3333333333333333,
              "#000014"
             ],
             [
              0.4444444444444444,
              "#000015"
             ],
             [
              0.5555555555555556,
              "#000016"
             ],
             [
              0.6666666666666666,
              "#000017"
             ],
             [
              0.7777777777777778,
              "#000018"
             ],
             [
              0.8888888888888888,
              "#000019"
             ],
             [
              1,
              "#000020"
             ]
            ],
            "type": "histogram2d"
           }
          ],
          "icicle": [
           {
            "textfont": {
             "color": "white"
            },
            "type": "icicle"
           }
          ],
          "sankey": [
           {
            "textfont": {
             "color": "#000036"
            },
            "type": "sankey"
           }
          ],
          "scatter": [
           {
            "marker": {
             "line": {
              "width": 0
             }
            },
            "type": "scatter"
           }
          ],
          "table": [
           {
            "cells": {
             "fill": {
              "color": "#000038"
             },
             "font": {
              "color": "#000037"
             },
             "line": {
              "color": "#000039"
             }
            },
            "header": {
             "fill": {
              "color": "#000040"
             },
             "font": {
              "color": "#000036"
             },
             "line": {
              "color": "#000039"
             }
            },
            "type": "table"
           }
          ],
          "waterfall": [
           {
            "connector": {
             "line": {
              "color": "#000036",
              "width": 2
             }
            },
            "decreasing": {
             "marker": {
              "color": "#000033"
             }
            },
            "increasing": {
             "marker": {
              "color": "#000032"
             }
            },
            "totals": {
             "marker": {
              "color": "#000034"
             }
            },
            "type": "waterfall"
           }
          ]
         },
         "layout": {
          "coloraxis": {
           "colorscale": [
            [
             0,
             "#000011"
            ],
            [
             0.1111111111111111,
             "#000012"
            ],
            [
             0.2222222222222222,
             "#000013"
            ],
            [
             0.3333333333333333,
             "#000014"
            ],
            [
             0.4444444444444444,
             "#000015"
            ],
            [
             0.5555555555555556,
             "#000016"
            ],
            [
             0.6666666666666666,
             "#000017"
            ],
            [
             0.7777777777777778,
             "#000018"
            ],
            [
             0.8888888888888888,
             "#000019"
            ],
            [
             1,
             "#000020"
            ]
           ]
          },
          "colorscale": {
           "diverging": [
            [
             0,
             "#000021"
            ],
            [
             0.1,
             "#000022"
            ],
            [
             0.2,
             "#000023"
            ],
            [
             0.3,
             "#000024"
            ],
            [
             0.4,
             "#000025"
            ],
            [
             0.5,
             "#000026"
            ],
            [
             0.6,
             "#000027"
            ],
            [
             0.7,
             "#000028"
            ],
            [
             0.8,
             "#000029"
            ],
            [
             0.9,
             "#000030"
            ],
            [
             1,
             "#000031"
            ]
           ],
           "sequential": [
            [
             0,
             "#000011"
            ],
            [
             0.1111111111111111,
             "#000012"
            ],
            [
             0.2222222222222222,
             "#000013"
            ],
            [
             0.3333333333333333,
             "#000014"
            ],
            [
             0.4444444444444444,
             "#000015"
            ],
            [
             0.5555555555555556,
             "#000016"
            ],
            [
             0.6666666666666666,
             "#000017"
            ],
            [
             0.7777777777777778,
             "#000018"
            ],
            [
             0.8888888888888888,
             "#000019"
            ],
            [
             1,
             "#000020"
            ]
           ],
           "sequentialminus": [
            [
             0,
             "#000011"
            ],
            [
             0.1111111111111111,
             "#000012"
            ],
            [
             0.2222222222222222,
             "#000013"
            ],
            [
             0.3333333333333333,
             "#000014"
            ],
            [
             0.4444444444444444,
             "#000015"
            ],
            [
             0.5555555555555556,
             "#000016"
            ],
            [
             0.6666666666666666,
             "#000017"
            ],
            [
             0.7777777777777778,
             "#000018"
            ],
            [
             0.8888888888888888,
             "#000019"
            ],
            [
             1,
             "#000020"
            ]
           ]
          },
          "colorway": [
           "#000001",
           "#000002",
           "#000003",
           "#000004",
           "#000005",
           "#000006",
           "#000007",
           "#000008",
           "#000009",
           "#000010"
          ]
         }
        },
        "xaxis": {
         "autorange": true,
         "range": [
          -2.9708723884298416,
          3.496892008673379
         ],
         "type": "linear"
        },
        "yaxis": {
         "autorange": true,
         "range": [
          -4.607818146674306,
          2.6276836308413056
         ],
         "type": "linear"
        }
       }
      },
      "image/png": "[encoded data removed]",
      "text/html": [
       "<div>                            <div id=\"7251a7f5-eba6-4b1a-9a3b-c29688200773\" class=\"plotly-graph-div\" style=\"height:525px; width:100%;\"></div>            <script type=\"text/javascript\">                require([\"plotly\"], function(Plotly) {                    window.PLOTLYENV=window.PLOTLYENV || {};                                    if (document.getElementById(\"7251a7f5-eba6-4b1a-9a3b-c29688200773\")) {                    Plotly.newPlot(                        \"7251a7f5-eba6-4b1a-9a3b-c29688200773\",                        [{\"mode\":\"lines+markers\",\"name\":\"test\",\"x\":[0.9364551655276987,0.7232657213516356,1.5131447972222143,2.0147599066233313,1.2912640683020846,0.5529322226089174,-1.3394158365633222,-0.4922977881355095,0.6013189457647179,0.5633337989845222,-2.066210346805853,1.1640491457053843,1.5025034978018803,-0.27869079464090024,0.13283217542333065,0.8883429696885546,0.05472394278444157,-0.05587343725189793,-2.455760897944926,1.6496180272784895,-0.6625414245648114,0.7079966385517327,0.8538131050931584,-0.6254107675511874,-2.616389147434761,0.627329766290219,-0.3293487202311193,0.08597785772671972,0.7624307606792152,1.8413962635098038,1.0627091178426944,-0.8360200736310309,0.31891803224266435,-0.28733566403657035,-0.9935780193449459,1.0146831943786145,1.6542792380418565,0.35179512277011843,-1.2336186417797654,0.4240807073492636,-0.04754294084170785,1.0553493245934689,0.03432842114042148,-0.8671238360847825,-0.19970285533989884,0.9532687885929765,-1.1631671884362471,-0.040691793242381556,-0.3522868633231391,0.0626374391063902,1.899767973325223,-1.2241749759493918,1.5857661294310423,-0.3818433028793371,-0.0329219926412431,-0.6470259223979276,-1.249654673035604,-1.0013361772335976,1.3685021284321328,0.6944332969979332,-1.9082779642273633,-1.0490084801699535,0.18957514618728794,-0.6892187008037303,0.3556470324717822,-0.9291368291982054,-0.5022309242035612,-0.9769824027140934,0.12619736719326954,-0.5697026440576684,-0.8962916661665921,0.040453603383290994,-1.3544884225221903,-1.4923101600633701,-1.2360689864356345,1.4525138115200844,-0.19099771908958288,-1.6173606065436652,-0.7371607189458473,-1.2670943235790915,0.9602590280908531,0.0853634431668654,2.2982608831769924,1.1645509986646712,1.48753129265607,-0.8719018000561684,-0.7430426304090927,-0.1376115504284748,2.68121718082859,1.9219049557975993,1.9154471753886346,-1.2986698054920056,0.5294986992421771,0.018786287030669452,0.48009733138568195,-0.6973504616268923,0.6593231805482901,1.6597498759547116,-1.2838992574755772,0.4051597342454738,0.6155113758450306,-0.4306205551916866,-0.9016173347972367,-0.8321025601175582,0.5064404850283537,-0.907243704345865,-1.0180621249485378,0.6999114632724545,0.4504363633544502,-1.3750713473672758,-0.035821667831046455,1.5052404100458563,-1.5219249312000547,-0.0755118853558854,0.03799707792008749,0.2661421590209166,0.5897315831812786,0.797827028463988,-0.3014108045141236,0.7082571966073397,-1.199838496487015,0.8350110158465085,-0.28385382646181945,0.21535874553150683,1.99912032707075,-0.37507684402596764,1.443415933115678,0.14399566650399281,-0.08237734117108532,-0.05989981792796406,0.009090098059260691,0.20909505858311514,-0.5440755701467459,0.18504692466814884,0.7810858424587555,-0.5320908338374335,0.8703381812998169,0.9789038105205548,-0.2850383929964289,1.007019975632089,0.9289851024532247,0.029639240655755995,0.11259590461657736,-0.6940109940134134,0.1325211585535953,-0.774813871523891,-1.9419905419405017,-1.4548899291306325,1.1455467247406046,-2.1949770353352984,0.36733944044163874,0.5963504787870739,0.6746664554604834,1.610885926039824,0.39796394586640826,3.1424087676782984,0.9868712900521011,0.3967964744879105,-1.1469326220438718,1.9304195194354248,-1.0794620172846843,0.7679590915557952,1.3157574918447617,1.7061785605751314,-1.3363986753218196,-0.1447046514679188,0.421224094782486,0.8134395556849882,0.8510767557457188,-0.8495821636867023,-0.13810978421404096,-0.806854803141265,-1.384904719499458,0.8587936281836657,-0.12518103000955136,0.5687082788633848,0.6334540635628847,0.08146151847693815,-0.686040767780822,-0.4963608166392705,0.4020863355459726,0.4557441821571677,0.8565818819551217,-0.8805085697994689,-0.9712526645691724,0.7516605550562512,-1.417899289236944,0.2713003216934518,0.6533635590541311,-0.8481420610226194,-0.825351426936857,0.5331877440137278,0.376606553940222,-0.211037740423904,0.22239031776507442,-0.2737719397098982,-0.8457511727917488,1.3138455997981262,0.3191091808825976,0.10838562108450091],\"y\":[0.40580048746248054,-1.0730446384793628,-0.6888549066021806,0.4279275182103736,-0.8900199636553386,0.4868698584669346,-0.7598589435392084,1.463770638518516,-1.3884860940919295,-0.8904988072064312,-0.8109210906819606,-1.273466012506934,-1.4633754359881392,-0.1401216954218548,-0.15247950773241895,0.6896866724565197,1.0265154067505229,0.5431728147796886,0.4146001197298313,0.06006583318181894,0.1940134495370769,-0.8235492469352673,2.1151689216006164,0.40480100095207283,-0.21092670748363224,-0.4173972578994154,0.9776611082472596,-0.5240711760329076,1.0905759420715442,1.081894190643518,-0.5610630292058381,0.09470342458164181,-0.6456275701524293,0.42358797860162195,-0.48402745909919787,0.28634397407484014,1.409306287696047,-0.5186624148821952,-0.4394900149239898,0.6577876166533732,-1.106282845560859,0.45704314969150717,0.37784148669182965,-0.6580109245024365,0.4587355110710405,-1.7529541867471823,-1.1505184750801598,0.9733967265350693,0.19469389613873767,0.5174047924826009,-0.5194773670480053,1.8422085130014623,-1.0480182115048162,-1.0149133818620921,-0.40353727032586667,1.605347440286641,-0.5801189974264662,-1.05289213260999,0.1044913139974024,-0.5199159505681081,-0.19960031129541642,-2.0276701260644594,0.2921381970931459,0.37308878641360266,0.5069813500899504,0.60286550153466,1.353265679101614,-0.20940442145874855,0.23398465336249247,0.05759201372935472,0.5767966599154096,1.2902265514029456,-0.5037227988847244,-2.203609378188949,-0.36327234189960084,1.2995942357221986,0.9311803422099861,-1.1450487469865769,1.6657362451027276,-0.06500085786346599,-2.4099460871243656,-0.18481331227212364,0.13969370694487,-0.6806202251258292,-1.2741646023539708,0.24814928822318613,-0.3673423497128972,0.5667077013414282,1.7131492662098677,0.0861731699707915,-0.02092271332422075,-0.3450536763887981,-0.6540251574816087,-0.2741303640543928,0.8912947565392308,-1.3718339892542122,-0.4907982901654708,-4.095303437433617,1.4959141876074713,-0.03585002604013609,0.5832871651021081,-1.010558273858714,1.0012307826860725,-1.1349398814810912,0.8930876533366413,1.4382026776565588,0.22243059763151896,0.2801929074822795,-0.2413702272422282,0.009714905652421441,1.025108394142444,-2.1132679925298836,-0.025757604914822044,0.8140757615368656,0.5732451969797974,1.086969008284848,1.6652041273094471,0.8862535153384037,0.14254836431351095,1.9153056663044146,-1.639093578454446,0.013387621711405274,0.8736906525527032,1.7237538634691472,0.8904662142871779,0.471649108198198,-0.22955587893012416,-0.49543631784789977,-0.3094075756306445,-0.2666438144130811,0.6511083973274091,-0.7405362783126105,1.2990299772464287,0.17963982521376437,1.4693242512886713,-0.2136649766768789,1.8412664329889215,-1.6937802953937788,-0.7771523809048733,-0.8639973076548534,-0.9079017998563436,0.7726946407506396,-0.8400659576572209,0.8454707410272185,-0.00857759852780908,-0.37025045248428207,-1.0371859117172881,-1.0604855401219828,0.3963236870951896,-0.48871800571144086,-0.4211619049687481,0.22408310615462246,-0.31591509490887065,-1.4359842929386302,0.5889689767957703,-0.08365279288090423,1.4638577256499223,0.7831394385385149,0.27122141632939767,-0.7983379735228179,1.6281230183386852,-1.510045861499118,-0.2706124058977303,-0.8634836860473679,-0.8202190334214617,1.8807729135331035,1.931071261242785,-0.3035915624399943,-0.3775986199006657,0.8485134363754834,0.8415197559610678,0.49121453995723074,-1.9595774475844354,0.39856467331914425,-0.9372368084614043,-0.439641038191077,0.6480754978367838,0.06123272625823728,0.29338795075490126,-1.0547407002047584,1.6084362480072416,0.04150205244568842,-0.6254332807657124,-0.7041332171120359,1.4441354240586122,-0.5634865883173455,1.0267518370294761,-1.1809524919719494,1.9724574276513265,-0.9727537809298273,-0.7164776497900457,-1.46924424217409,0.1413172154753677,0.4845442257280558,-0.42862464289160584,0.6633285306325472,-0.025395472794002723,0.9506911637903733,1.7671176175878927,0.8137759303063591],\"type\":\"scatter\",\"marker\":{\"line\":{\"color\":\"rgb(108,48,107)\",\"width\":1.5},\"color\":\"rgb(15,110,225)\"},\"opacity\":0.6}],                        {\"template\":{\"data\":{\"candlestick\":[{\"decreasing\":{\"line\":{\"color\":\"#000033\"}},\"increasing\":{\"line\":{\"color\":\"#000032\"}},\"type\":\"candlestick\"}],\"contourcarpet\":[{\"colorscale\":[[0.0,\"#000011\"],[0.1111111111111111,\"#000012\"],[0.2222222222222222,\"#000013\"],[0.3333333333333333,\"#000014\"],[0.4444444444444444,\"#000015\"],[0.5555555555555556,\"#000016\"],[0.6666666666666666,\"#000017\"],[0.7777777777777778,\"#000018\"],[0.8888888888888888,\"#000019\"],[1.0,\"#000020\"]],\"type\":\"contourcarpet\"}],\"contour\":[{\"colorscale\":[[0.0,\"#000011\"],[0.1111111111111111,\"#000012\"],[0.2222222222222222,\"#000013\"],[0.3333333333333333,\"#000014\"],[0.4444444444444444,\"#000015\"],[0.5555555555555556,\"#000016\"],[0.6666666666666666,\"#000017\"],[0.7777777777777778,\"#000018\"],[0.8888888888888888,\"#000019\"],[1.0,\"#000020\"]],\"type\":\"contour\"}],\"heatmap\":[{\"colorscale\":[[0.0,\"#000011\"],[0.1111111111111111,\"#000012\"],[0.2222222222222222,\"#000013\"],[0.3333333333333333,\"#000014\"],[0.4444444444444444,\"#000015\"],[0.5555555555555556,\"#000016\"],[0.6666666666666666,\"#000017\"],[0.7777777777777778,\"#000018\"],[0.8888888888888888,\"#000019\"],[1.0,\"#000020\"]],\"type\":\"heatmap\"}],\"histogram2d\":[{\"colorscale\":[[0.0,\"#000011\"],[0.1111111111111111,\"#000012\"],[0.2222222222222222,\"#000013\"],[0.3333333333333333,\"#000014\"],[0.4444444444444444,\"#000015\"],[0.5555555555555556,\"#000016\"],[0.6666666666666666,\"#000017\"],[0.7777777777777778,\"#000018\"],[0.8888888888888888,\"#000019\"],[1.0,\"#000020\"]],\"type\":\"histogram2d\"}],\"icicle\":[{\"textfont\":{\"color\":\"white\"},\"type\":\"icicle\"}],\"sankey\":[{\"textfont\":{\"color\":\"#000036\"},\"type\":\"sankey\"}],\"scatter\":[{\"marker\":{\"line\":{\"width\":0}},\"type\":\"scatter\"}],\"table\":[{\"cells\":{\"fill\":{\"color\":\"#000038\"},\"font\":{\"color\":\"#000037\"},\"line\":{\"color\":\"#000039\"}},\"header\":{\"fill\":{\"color\":\"#000040\"},\"font\":{\"color\":\"#000036\"},\"line\":{\"color\":\"#000039\"}},\"type\":\"table\"}],\"waterfall\":[{\"connector\":{\"line\":{\"color\":\"#000036\",\"width\":2}},\"decreasing\":{\"marker\":{\"color\":\"#000033\"}},\"increasing\":{\"marker\":{\"color\":\"#000032\"}},\"totals\":{\"marker\":{\"color\":\"#000034\"}},\"type\":\"waterfall\"}]},\"layout\":{\"coloraxis\":{\"colorscale\":[[0.0,\"#000011\"],[0.1111111111111111,\"#000012\"],[0.2222222222222222,\"#000013\"],[0.3333333333333333,\"#000014\"],[0.4444444444444444,\"#000015\"],[0.5555555555555556,\"#000016\"],[0.6666666666666666,\"#000017\"],[0.7777777777777778,\"#000018\"],[0.8888888888888888,\"#000019\"],[1.0,\"#000020\"]]},\"colorscale\":{\"diverging\":[[0.0,\"#000021\"],[0.1,\"#000022\"],[0.2,\"#000023\"],[0.3,\"#000024\"],[0.4,\"#000025\"],[0.5,\"#000026\"],[0.6,\"#000027\"],[0.7,\"#000028\"],[0.8,\"#000029\"],[0.9,\"#000030\"],[1.0,\"#000031\"]],\"sequential\":[[0.0,\"#000011\"],[0.1111111111111111,\"#000012\"],[0.2222222222222222,\"#000013\"],[0.3333333333333333,\"#000014\"],[0.4444444444444444,\"#000015\"],[0.5555555555555556,\"#000016\"],[0.6666666666666666,\"#000017\"],[0.7777777777777778,\"#000018\"],[0.8888888888888888,\"#000019\"],[1.0,\"#000020\"]],\"sequentialminus\":[[0.0,\"#000011\"],[0.1111111111111111,\"#000012\"],[0.2222222222222222,\"#000013\"],[0.3333333333333333,\"#000014\"],[0.4444444444444444,\"#000015\"],[0.5555555555555556,\"#000016\"],[0.6666666666666666,\"#000017\"],[0.7777777777777778,\"#000018\"],[0.8888888888888888,\"#000019\"],[1.0,\"#000020\"]]},\"colorway\":[\"#000001\",\"#000002\",\"#000003\",\"#000004\",\"#000005\",\"#000006\",\"#000007\",\"#000008\",\"#000009\",\"#000010\"]}}},                        {\"responsive\": true}                    ).then(function(){\n",
       "                            \n",
       "var gd = document.getElementById('7251a7f5-eba6-4b1a-9a3b-c29688200773');\n",
       "var x = new MutationObserver(function (mutations, observer) {{\n",
       "        var display = window.getComputedStyle(gd).display;\n",
       "        if (!display || display === 'none') {{\n",
       "            console.log([gd, 'removed!']);\n",
       "            Plotly.purge(gd);\n",
       "            observer.disconnect();\n",
       "        }}\n",
       "}});\n",
       "\n",
       "// Listen for the removal of the full notebook cells\n",
       "var notebookContainer = gd.closest('#notebook-container');\n",
       "if (notebookContainer) {{\n",
       "    x.observe(notebookContainer, {childList: true});\n",
       "}}\n",
       "\n",
       "// Listen for the clearing of the current output cell\n",
       "var outputEl = gd.closest('.output');\n",
       "if (outputEl) {{\n",
       "    x.observe(outputEl, {childList: true});\n",
       "}}\n",
       "\n",
       "                        })                };                });            </script>        </div>"
      ]
     },
     "metadata": {},
     "output_type": "display_data"
    }
   ],
   "source": [
    "fig = go.Figure()\n",
    "fig.add_trace(go.Scatter(x=df2['a'], y=df2['b'], mode='lines+markers', name='test'))\n",
    "fig.update_traces(marker_color='rgb(15,110,225)', # marker颜色\n",
    "                  marker_line_color='rgb(108,48,107)', # 线条颜色\n",
    "                  marker_line_width=1.5,   # 线宽\n",
    "                  opacity=0.6) \n",
    "fig.show()"
   ]
  },
  {
   "cell_type": "code",
   "execution_count": null,
   "id": "a4641b1d-49df-4127-9de1-2411c87fffb8",
   "metadata": {},
   "outputs": [],
   "source": []
  }
 ],
 "metadata": {
  "kernelspec": {
   "display_name": "Python 3 (ipykernel)",
   "language": "python",
   "name": "python3"
  },
  "language_info": {
   "codemirror_mode": {
    "name": "ipython",
    "version": 3
   },
   "file_extension": ".py",
   "mimetype": "text/x-python",
   "name": "python",
   "nbconvert_exporter": "python",
   "pygments_lexer": "ipython3",
   "version": "3.9.19"
  }
 },
 "nbformat": 4,
 "nbformat_minor": 5
}
